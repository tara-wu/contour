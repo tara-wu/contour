{
 "cells": [
  {
   "cell_type": "markdown",
   "id": "b86a7bda-a1fc-4955-917a-c0bcea2e894e",
   "metadata": {},
   "source": [
    "# Creating Contours"
   ]
  },
  {
   "cell_type": "markdown",
   "id": "166bd7db-cf61-477f-abc1-f02a3c2dbc3a",
   "metadata": {},
   "source": [
    "### This script creates contours for a chosen shapefile in ArcGIS Online with customizable measurements. Users must have a Spatial Analyst lisence. \n",
    "\n"
   ]
  },
  {
   "cell_type": "markdown",
   "id": "c786314e-834b-4c4c-b04f-bfa013c90dec",
   "metadata": {},
   "source": [
    "##### Note: to run this tool in a script, you must first import the arcpy module as well as the spatial analyst extention. "
   ]
  },
  {
   "cell_type": "code",
   "execution_count": 5,
   "id": "797b641d-a7ab-4123-8c62-be71d4b42fde",
   "metadata": {},
   "outputs": [],
   "source": [
    "import arcpy\n",
    "from arcpy.sa import *"
   ]
  },
  {
   "cell_type": "markdown",
   "id": "5ebe151b-1fba-4e33-9972-a7d75c962070",
   "metadata": {},
   "source": [
    "\n",
    "\n",
    "#### Contour lines are lines that connect points of equal elevation on a map or surface. They help represent the 3D shape of terrain on a 2D map. Contour lines show hills, valleys, slopes, ridges, and depressions by connecting points at the same height. This helps users understand terrain features without needing to see the actual landscape. This is useful for a variety of purposes related to planning and navigation. \n",
    "\n",
    "#### Without contour lines, it is hard to see how steep or low topography is:"
   ]
  },
  {
   "cell_type": "markdown",
   "id": "29d6c1fa-0ed2-4208-ab24-638070492dd9",
   "metadata": {},
   "source": [
    "![Topography Example](images/1.landscape.png)"
   ]
  },
  {
   "cell_type": "markdown",
   "id": "1eae5a6c-d5a5-4fd2-84e7-601e15f57806",
   "metadata": {},
   "source": [
    "#### ArcGIS Pro has a tool called Contour - as the name implies, it creates contours if you provide an elevation surface to the tool and specify how you'd like those contours to be specified."
   ]
  },
  {
   "cell_type": "markdown",
   "id": "0374b97b-d9c1-4ba1-99cd-0ff8e04528c5",
   "metadata": {},
   "source": [
    "#### You must also define a workspace. Finally, it's a good idea to allow the script to overwrite existing layers if you are running it again and want to save the newest output (if you don't want this to happen, you can disable the final line in this code block by placing a hashtag (#) at the beginning of the last line)."
   ]
  },
  {
   "cell_type": "code",
   "execution_count": 2,
   "id": "73e69b55-6888-4804-b7b5-5926b1822a25",
   "metadata": {},
   "outputs": [],
   "source": [
    "arcpy.env.workspace = r\"E:\\PSU\\485\\Lesson1\"\n",
    "arcpy.env.overwriteOutput = True"
   ]
  },
  {
   "cell_type": "markdown",
   "id": "ce4c606d-1d0d-4f20-8f73-9b25a797d5f2",
   "metadata": {},
   "source": [
    "#### You will notice that the next section of code is in try/except blocks. This allows the code to print out an error message if the code does not work.\n",
    "\n",
    "\n",
    "#### The first block of code explains details of the contour you want to make. Where is the raster from which you will make the contours? That raster must have elevation values. You can set intervals and base contour settings as well. Finally, you create an output filepath.\n",
    "\n",
    "#### After checking out the Spatial Analyst extension, you run the Contour tool with the contour specifications you just listed! Simple print message tell you that the tool worked successfully."
   ]
  },
  {
   "cell_type": "code",
   "execution_count": 4,
   "id": "da5de561-f294-4563-9bf3-a2c7ffc7b8f6",
   "metadata": {},
   "outputs": [
    {
     "name": "stdout",
     "output_type": "stream",
     "text": [
      "Contours created successfully.\n",
      "Output file created at {arcpy.env.workspace}/{out_contour}.shp\n"
     ]
    },
    {
     "data": {
      "text/plain": [
       "'CheckedIn'"
      ]
     },
     "execution_count": 4,
     "metadata": {},
     "output_type": "execute_result"
    }
   ],
   "source": [
    "try:\n",
    "    # specify contour options\n",
    "    in_raster = \"Lesson1/foxlake\"\n",
    "    contour_interval = 25\n",
    "    base_contour = 0\n",
    "    out_contour = \"Lesson1/Contour_foxlake1_jupyter_test\"\n",
    "\n",
    "    #Check out Spatial Analyst Extension\n",
    "    arcpy.CheckOutExtension(\"Spatial\")\n",
    "\n",
    "    # Perform Contour Operation and Save Resulting Data\n",
    "    Contour(in_raster, out_contour, contour_interval, base_contour)\n",
    "    #outRaster.save = \"C:/PSU/GEOG485/Lesson1/Lesson1/Contour_foxlake1\"\n",
    "\n",
    "    print(\"Contours created successfully.\")\n",
    "    print(\"Output file created at {arcpy.env.workspace}/{out_contour}.shp\")\n",
    "\n",
    "except Exception as e:\n",
    "    #Report Error Message\n",
    "    print(\"Could not complete contour operation.\")\n",
    "    print(f\"Error: {e}\")\n",
    "\n",
    "#Check in Spatial Analyst Extension\n",
    "arcpy.CheckInExtension(\"Spatial\")\n"
   ]
  },
  {
   "cell_type": "markdown",
   "id": "b462f66e-2cf8-4e3b-a1d7-467d8890a765",
   "metadata": {},
   "source": [
    "#### The except block at the end of the last code block prints error messages if the tool did not work. \n",
    "\n",
    "#### Once this procedure is complete, you need to check back in the tool you just used. You can then add the newly created layer to your map:"
   ]
  },
  {
   "cell_type": "markdown",
   "id": "feb9360b-902f-4d09-849e-f423a5b742e2",
   "metadata": {},
   "source": [
    "![Topography Example](images/2.contours.png)"
   ]
  },
  {
   "cell_type": "markdown",
   "id": "9422e5ea-28fc-4416-85e6-35d91336530e",
   "metadata": {},
   "source": [
    "#### In ArcGIS Pro, you can add labels as well to show viewers how steep or flat an area is:"
   ]
  },
  {
   "cell_type": "markdown",
   "id": "b0675039-d745-4564-adfb-03ac99bc6cf6",
   "metadata": {},
   "source": [
    "![Topography Example](images/3.labels.png)"
   ]
  },
  {
   "cell_type": "code",
   "execution_count": null,
   "id": "387189d8-0fc1-4a1c-9f56-07189a8293dc",
   "metadata": {},
   "outputs": [],
   "source": []
  }
 ],
 "metadata": {
  "kernelspec": {
   "display_name": "Python 3 (ArcGIS Pro)",
   "language": "python",
   "name": "arcgispro-py3"
  },
  "language_info": {
   "codemirror_mode": {
    "name": "ipython",
    "version": 3
   },
   "file_extension": ".py",
   "mimetype": "text/x-python",
   "name": "python",
   "nbconvert_exporter": "python",
   "pygments_lexer": "ipython3",
   "version": "3.11.11"
  }
 },
 "nbformat": 4,
 "nbformat_minor": 5
}
